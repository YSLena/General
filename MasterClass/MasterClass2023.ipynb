{
 "cells": [
  {
   "cell_type": "code",
   "execution_count": null,
   "metadata": {},
   "outputs": [],
   "source": [
    "# %pip install pandas"
   ]
  },
  {
   "cell_type": "code",
   "execution_count": null,
   "metadata": {},
   "outputs": [],
   "source": [
    "import psycopg2 as ps\n",
    "import pandas as pd"
   ]
  },
  {
   "cell_type": "code",
   "execution_count": null,
   "metadata": {},
   "outputs": [],
   "source": [
    "conn = ps.connect(dbname='postgres', user='student', \n",
    "                        password='student', host='104.197.87.141')\n"
   ]
  },
  {
   "cell_type": "code",
   "execution_count": null,
   "metadata": {},
   "outputs": [],
   "source": [
    "df = pd.read_sql_query(\"SELECT surname, name, absences, unready_labs FROM faculty_ua.students\", con=conn)\n",
    "df"
   ]
  },
  {
   "cell_type": "code",
   "execution_count": null,
   "metadata": {},
   "outputs": [],
   "source": [
    "df.info()"
   ]
  },
  {
   "cell_type": "code",
   "execution_count": null,
   "metadata": {},
   "outputs": [],
   "source": [
    "df.describe()"
   ]
  },
  {
   "cell_type": "code",
   "execution_count": null,
   "metadata": {},
   "outputs": [],
   "source": [
    "df.iloc[3,1]"
   ]
  },
  {
   "cell_type": "code",
   "execution_count": null,
   "metadata": {},
   "outputs": [],
   "source": [
    "df1 = df[df['absences']>110]\n",
    "df1"
   ]
  },
  {
   "cell_type": "code",
   "execution_count": null,
   "metadata": {},
   "outputs": [],
   "source": [
    "df1 = df[df['absences']>110]\n",
    "\n",
    "df1.style.highlight_max(subset = ['absences'], color='red', axis = 0) \\\n",
    "    .highlight_min(subset = ['absences'], color='green', axis = 0) \\\n",
    "    .highlight_max(subset = ['unready_labs'], color='magenta', axis = 0) \\\n",
    "    .highlight_min(subset = ['unready_labs'], color='lightgreen', axis = 0)"
   ]
  },
  {
   "cell_type": "code",
   "execution_count": null,
   "metadata": {},
   "outputs": [],
   "source": [
    "df1.sort_values('absences', ascending=False).style.bar(subset=['absences'], color='darkred')#, vmin=110)"
   ]
  },
  {
   "cell_type": "code",
   "execution_count": null,
   "metadata": {},
   "outputs": [],
   "source": [
    "dfg = pd.read_sql_query(\n",
    "    \"SELECT g.group_number, COUNT(s.student_id) students, SUM(s.absences) absences, sum(unready_labs) unready_labs \"\n",
    "    + \"FROM faculty_ua.students s JOIN faculty_ua.groups g \"\n",
    "    + \"ON s.group_id = g.group_id \"\n",
    "    + \"GROUP BY g.group_number \"\n",
    "    , con=conn)\n",
    "dfg"
   ]
  },
  {
   "cell_type": "code",
   "execution_count": null,
   "metadata": {},
   "outputs": [],
   "source": [
    "dfg.sort_values('students').plot(x = 'students', y = 'absences')"
   ]
  },
  {
   "cell_type": "code",
   "execution_count": null,
   "metadata": {},
   "outputs": [],
   "source": [
    "dfg.plot.scatter(x = 'students', y = 'absences')"
   ]
  },
  {
   "cell_type": "code",
   "execution_count": null,
   "metadata": {},
   "outputs": [],
   "source": [
    " # %pip install matplotlib"
   ]
  },
  {
   "cell_type": "code",
   "execution_count": null,
   "metadata": {},
   "outputs": [],
   "source": [
    "import matplotlib.pyplot as plt\n",
    "\n",
    "fig = plt.figure(figsize=(16, 12), dpi= 80)\n",
    "# fig, ax = plt.subplots()\n",
    "\n",
    "grid = plt.GridSpec(4, 4, hspace=0.5, wspace=0.2)\n",
    "ax = fig.add_subplot(grid[:-1, :-1])\n",
    "\n",
    "x = list(dfg['students'])\n",
    "y = list(dfg['absences'])\n",
    "sizes = list(dfg['unready_labs'])\n",
    "\n",
    "cources = [str[1] for str in list(dfg['group_number'])]\n",
    "colors = {1:'indigo', 2:'coral', 3:'blue', 4:'lime', 5:'magenta'}\n",
    "cololor_list =  [colors[int(cr)] for cr in cources]\n",
    "\n",
    "# i=0;\n",
    "# while i < len(cololor_list):\n",
    "#     print(list(dfg['group_number'])[i], cources[i],  cololor_list[i])\n",
    "#     i+=1\n",
    "\n",
    "scatter = ax.scatter(x, y, c=cololor_list, s=sizes, label=colors)\n",
    "ax.set_title(\"Пропуски занять у групах\")\n",
    "ax.legend()\n",
    "handles, labels = scatter.legend_elements(prop=\"sizes\")\n",
    "legend1 = ax.legend(handles, labels, loc=\"upper right\", title=\"Заборг. з ЛР\")\n",
    "ax.set_xlabel('кількість студентів', fontsize = 12)\n",
    "ax.set_ylabel('пропуски', fontsize = 12)\n",
    "\n",
    "# бокові гістограми\n",
    "\n",
    "# ax_right = fig.add_subplot(grid[:-1, -1], xticklabels=[], yticklabels=[])\n",
    "# ax_bottom = fig.add_subplot(grid[-1, 0:-1], xticklabels=[], yticklabels=[])\n",
    "# ax_bottom.hist(x, len(x), histtype='stepfilled', orientation='vertical', color='mediumvioletred')\n",
    "# ax_bottom.invert_yaxis()\n",
    "# ax_right.hist(y, len(y), histtype='stepfilled', orientation='horizontal', color='mediumvioletred')\n",
    "\n",
    "plt.show()\n"
   ]
  },
  {
   "cell_type": "code",
   "execution_count": null,
   "metadata": {},
   "outputs": [],
   "source": [
    "i=0;\n",
    "while i < len(cololor_list):\n",
    "    print(list(dfg['group_number'])[i], cources[i],  cololor_list[i])\n",
    "    i+=1"
   ]
  },
  {
   "cell_type": "code",
   "execution_count": null,
   "metadata": {},
   "outputs": [],
   "source": [
    "dfcc = pd.read_sql_query(\n",
    "    \"SELECT c.chair_number AS chair, SUBSTRING(g.group_number, 2, 1) AS course, \"\n",
    "    + \"COUNT(s.student_id) students, SUM(s.absences) absences, sum(unready_labs) unready_labs \"\n",
    "    + \"FROM faculty_ua.students s JOIN faculty_ua.groups g ON s.group_id = g.group_id \"\n",
    "\t+ \"JOIN faculty_ua.chairs c ON c.chair_id = g.chair_id \"\n",
    "    + \"GROUP BY c.chair_number, course \"\n",
    "    , con=conn)\n",
    "dfcc"
   ]
  },
  {
   "cell_type": "code",
   "execution_count": null,
   "metadata": {},
   "outputs": [],
   "source": [
    "import matplotlib.pyplot as plt\n",
    "\n",
    "\n",
    "dfs = dfcc.sort_values('chair')\n",
    "\n",
    "x = list(dfs['chair'])\n",
    "y = list(dfs['course'])\n",
    "z = list(dfs['absences'])\n",
    "\n",
    "plt.figure(figsize=(16,10), dpi= 80)\n",
    "figg, axx = plt.subplots(subplot_kw={\"projection\": \"3d\"})\n",
    "\n",
    "axx.plot_trisurf(x, y, z,cmap='magma')\n",
    "\n",
    "axx.set_xlabel('кафедри')\n",
    "axx.set_ylabel('курси')\n",
    "axx.set_zlabel('пропуски')\n",
    "\n",
    "plt.show()"
   ]
  },
  {
   "cell_type": "code",
   "execution_count": null,
   "metadata": {},
   "outputs": [],
   "source": [
    "# %pip install seaborn --user"
   ]
  },
  {
   "cell_type": "code",
   "execution_count": null,
   "metadata": {},
   "outputs": [],
   "source": [
    "import matplotlib.pyplot as plt\n",
    "import seaborn as sns\n",
    "\n",
    "sns.set_theme()\n",
    "\n",
    "chart = dfcc.pivot('chair', 'course', 'absences')\n",
    "\n",
    "f = plt.subplots()\n",
    "sns.heatmap(chart, annot=True, linewidths=.5, fmt=\"d\", cmap=\"magma\")"
   ]
  },
  {
   "cell_type": "code",
   "execution_count": null,
   "metadata": {},
   "outputs": [],
   "source": [
    "import numpy as np\n",
    "\n",
    "dfsum = dfcc.groupby(by='chair', group_keys=True).sum()\n",
    "\n",
    "fig, ax = plt.subplots(nrows=1, ncols=2, figsize=(12, 6), subplot_kw=dict(aspect=\"equal\"))\n",
    "fig.suptitle('Досягнення кафедр', fontfamily = 'serif',\n",
    "                fontstyle = 'italic',\n",
    "                fontsize = 15)\n",
    "fig.set_facecolor('thistle') \n",
    "\n",
    "size = 0.4\n",
    "chairs = list(dfcc.groupby(by='chair', group_keys=True).groups.keys())\n",
    "\n",
    "# перший пончик\n",
    "\n",
    "abs_outer = list(dfsum['absences'])\n",
    "abs_inner = list(dfcc.sort_values(by=['chair', 'course'])['absences'])\n",
    "\n",
    "clr_outer1 = plt.cm.autumn(np.linspace(0,1,len(abs_outer)))\n",
    "clr_inner1 = plt.cm.autumn(np.linspace(0,1,len(abs_inner)))\n",
    "\n",
    "ax[0].pie(abs_outer, startangle=0, pctdistance =0.88, colors=clr_outer1, labels=chairs,\n",
    "       autopct = '%1.1f%%', labeldistance=1.05, radius= 1.0, wedgeprops=dict(width=0.95*size, edgecolor='w'), shadow=True,\n",
    "       textprops=dict(color='blue', size=12, weight='bold'))\n",
    "\n",
    "ax[0].pie(abs_inner, startangle=0, pctdistance =0.88, colors=clr_inner1,\n",
    "        radius= 1-size, wedgeprops=dict(width=size, edgecolor='w'), shadow=True)\n",
    "\n",
    "ax[0].set_title(\"Пропуски занять по кафедрам\")\n",
    "\n",
    "# другий пончик\n",
    "\n",
    "st_outer = list(dfsum['students'])\n",
    "st_inner = list(dfcc.sort_values(by=['chair', 'course'])['students'])\n",
    "\n",
    "clr_outer2 = plt.cm.winter(np.linspace(0,1,len(st_outer)))\n",
    "clr_inner2 = plt.cm.winter(np.linspace(0,1,len(st_inner)))\n",
    "\n",
    "ax[1].pie(st_outer, startangle=0, pctdistance =0.88, colors=clr_outer2, labels=chairs,\n",
    "       autopct = '%1.1f%%', labeldistance=1.05, radius= 1.0, wedgeprops=dict(width=0.95*size, edgecolor='w'), shadow=True,\n",
    "       textprops=dict(color='red', size=12, weight='bold'))\n",
    "\n",
    "ax[1].pie(st_inner, startangle=0, pctdistance =0.88, colors=clr_inner2,\n",
    "        radius= 1-size, wedgeprops=dict(width=size, edgecolor='w'), shadow=True)\n",
    "\n",
    "ax[1].set_title(\"Кількість студентів занять по кафедрам\")\n",
    "\n",
    "plt.show()"
   ]
  }
 ],
 "metadata": {
  "kernelspec": {
   "display_name": "Python 3",
   "language": "python",
   "name": "python3"
  },
  "language_info": {
   "codemirror_mode": {
    "name": "ipython",
    "version": 3
   },
   "file_extension": ".py",
   "mimetype": "text/x-python",
   "name": "python",
   "nbconvert_exporter": "python",
   "pygments_lexer": "ipython3",
   "version": "3.10.7 (tags/v3.10.7:6cc6b13, Sep  5 2022, 14:08:36) [MSC v.1933 64 bit (AMD64)]"
  },
  "orig_nbformat": 4,
  "vscode": {
   "interpreter": {
    "hash": "8dc160dc84987e0dc16ce2adc3cdfecf86682c46957e8ef35d017051640c6099"
   }
  }
 },
 "nbformat": 4,
 "nbformat_minor": 2
}
